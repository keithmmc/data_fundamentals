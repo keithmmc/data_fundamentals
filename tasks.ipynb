{
 "cells": [
  {
   "cell_type": "code",
   "execution_count": 3,
   "metadata": {},
   "outputs": [],
   "source": [
    "## tasks notebook ##\n",
    "#task one# \n"
   ]
  },
  {
   "cell_type": "markdown",
   "metadata": {},
   "source": [
    "the colltaz conjecture also known as the 3 + 1 conjecture. "
   ]
  },
  {
   "cell_type": "code",
   "execution_count": 4,
   "metadata": {},
   "outputs": [],
   "source": [
    "def f(x):\n",
    "  # If x is even, divide it by two.\n",
    "  if x % 2 == 0:\n",
    "    return x // 2\n",
    "  else:\n",
    "    return (3 * x) + 1\n",
    "    "
   ]
  },
  {
   "cell_type": "code",
   "execution_count": 5,
   "metadata": {},
   "outputs": [],
   "source": [
    "def collatz(x):\n",
    "  while x != 1:\n",
    "    print(x, end=', ')\n",
    "    x = f(x)\n",
    "  print(x)\n",
    "        "
   ]
  },
  {
   "cell_type": "code",
   "execution_count": 6,
   "metadata": {},
   "outputs": [
    {
     "name": "stdout",
     "output_type": "stream",
     "text": [
      "10000, 5000, 2500, 1250, 625, 1876, 938, 469, 1408, 704, 352, 176, 88, 44, 22, 11, 34, 17, 52, 26, 13, 40, 20, 10, 5, 16, 8, 4, 2, 1\n"
     ]
    }
   ],
   "source": [
    "collatz(10000)"
   ]
  },
  {
   "cell_type": "markdown",
   "metadata": {},
   "source": [
    "# task 2 # Penguin data set\n",
    "Task description:\n",
    "Give an overview of the famous penguins data set, explaining the types of variables it contains. Suggest the types of variables that should be used to model them in Python, explaining your rationale."
   ]
  },
  {
   "cell_type": "code",
   "execution_count": 15,
   "metadata": {},
   "outputs": [
    {
     "name": "stdout",
     "output_type": "stream",
     "text": [
      "head:\n",
      "            island  bill_length_mm  bill_depth_mm  flipper_length_mm  \\\n",
      "species                                                                \n",
      "Adelie   Torgersen            39.1           18.7              181.0   \n",
      "Adelie   Torgersen            39.5           17.4              186.0   \n",
      "Adelie   Torgersen            40.3           18.0              195.0   \n",
      "Adelie   Torgersen             NaN            NaN                NaN   \n",
      "Adelie   Torgersen            36.7           19.3              193.0   \n",
      "\n",
      "         body_mass_g     sex  \n",
      "species                       \n",
      "Adelie        3750.0    MALE  \n",
      "Adelie        3800.0  FEMALE  \n",
      "Adelie        3250.0  FEMALE  \n",
      "Adelie           NaN     NaN  \n",
      "Adelie        3450.0  FEMALE  \n",
      "tail:\n",
      "         island  bill_length_mm  bill_depth_mm  flipper_length_mm  \\\n",
      "species                                                             \n",
      "Gentoo   Biscoe             NaN            NaN                NaN   \n",
      "Gentoo   Biscoe            46.8           14.3              215.0   \n",
      "Gentoo   Biscoe            50.4           15.7              222.0   \n",
      "Gentoo   Biscoe            45.2           14.8              212.0   \n",
      "Gentoo   Biscoe            49.9           16.1              213.0   \n",
      "\n",
      "         body_mass_g     sex  \n",
      "species                       \n",
      "Gentoo           NaN     NaN  \n",
      "Gentoo        4850.0  FEMALE  \n",
      "Gentoo        5750.0    MALE  \n",
      "Gentoo        5200.0  FEMALE  \n",
      "Gentoo        5400.0    MALE  \n",
      "sample:\n",
      "            island  bill_length_mm  bill_depth_mm  flipper_length_mm  \\\n",
      "species                                                                \n",
      "Adelie   Torgersen            39.1           18.7              181.0   \n",
      "Adelie   Torgersen            39.5           17.4              186.0   \n",
      "Adelie   Torgersen            40.3           18.0              195.0   \n",
      "Adelie   Torgersen             NaN            NaN                NaN   \n",
      "Adelie   Torgersen            36.7           19.3              193.0   \n",
      "\n",
      "         body_mass_g     sex  \n",
      "species                       \n",
      "Adelie        3750.0    MALE  \n",
      "Adelie        3800.0  FEMALE  \n",
      "Adelie        3250.0  FEMALE  \n",
      "Adelie           NaN     NaN  \n",
      "Adelie        3450.0  FEMALE  \n",
      "sample:\n",
      "         island  bill_length_mm  bill_depth_mm  flipper_length_mm  \\\n",
      "species                                                             \n",
      "Gentoo   Biscoe             NaN            NaN                NaN   \n",
      "Gentoo   Biscoe            46.8           14.3              215.0   \n",
      "Gentoo   Biscoe            50.4           15.7              222.0   \n",
      "Gentoo   Biscoe            45.2           14.8              212.0   \n",
      "Gentoo   Biscoe            49.9           16.1              213.0   \n",
      "\n",
      "         body_mass_g     sex  \n",
      "species                       \n",
      "Gentoo           NaN     NaN  \n",
      "Gentoo        4850.0  FEMALE  \n",
      "Gentoo        5750.0    MALE  \n",
      "Gentoo        5200.0  FEMALE  \n",
      "Gentoo        5400.0    MALE  \n",
      "\n",
      "data types:\n",
      "island                object\n",
      "bill_length_mm       float64\n",
      "bill_depth_mm        float64\n",
      "flipper_length_mm    float64\n",
      "body_mass_g          float64\n",
      "sex                   object\n",
      "dtype: object\n"
     ]
    }
   ],
   "source": [
    "import pandas as pd \n",
    "url =  'https://github.com/mwaskom/seaborn-data/blob/master/penguins.csv?raw=true'\n",
    "df = pd.read_csv(url,index_col=0)\n",
    "df.to_csv(\"penguines.csv\", index=False)\n",
    "print(f'head:\\n{df.head(5)}') \n",
    "print(f'tail:\\n{df.tail(5)}')\n",
    "print(f'sample:\\n{df.head(5)}')\n",
    "print(f'sample:\\n{df.tail(5)}')\n",
    "print(f'\\ndata types:\\n{df.dtypes}')"
   ]
  },
  {
   "cell_type": "code",
   "execution_count": null,
   "metadata": {},
   "outputs": [],
   "source": []
  }
 ],
 "metadata": {
  "kernelspec": {
   "display_name": "base",
   "language": "python",
   "name": "python3"
  },
  "language_info": {
   "codemirror_mode": {
    "name": "ipython",
    "version": 3
   },
   "file_extension": ".py",
   "mimetype": "text/x-python",
   "name": "python",
   "nbconvert_exporter": "python",
   "pygments_lexer": "ipython3",
   "version": "3.11.4"
  },
  "orig_nbformat": 4
 },
 "nbformat": 4,
 "nbformat_minor": 2
}
