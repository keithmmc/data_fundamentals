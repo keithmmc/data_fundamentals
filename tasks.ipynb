{
 "cells": [
  {
   "cell_type": "code",
   "execution_count": 13,
   "metadata": {},
   "outputs": [],
   "source": [
    "## tasks notebook ##\n",
    "#task one# \n"
   ]
  },
  {
   "cell_type": "markdown",
   "metadata": {},
   "source": [
    "the colltaz conjecture also known as the 3 + 1 conjecture. "
   ]
  },
  {
   "cell_type": "markdown",
   "metadata": {},
   "source": [
    "Task description:\n",
    "The Collatz conjecture1 is a famous unsolved problem in mathematics. The problem is to prove that if you start with any positive\n",
    "\n",
    "integer x and repeatedly apply the function f(x) below, you always get stuck in the repeating sequence 1, 4, 2, 1, 4, 2, . . .\n",
    " \n",
    "\n",
    "The task is to verify, using Python, that the conjecture is true for the first 10,000 positive integers."
   ]
  },
  {
   "cell_type": "code",
   "execution_count": 6,
   "metadata": {},
   "outputs": [],
   "source": [
    "def f(x):\n",
    "    # If x is even, then divide by 2\n",
    "    if x % 2 == 0:\n",
    "        return x // 2\n",
    "    else:\n",
    "        return (3 * x) + 1\n",
    "    "
   ]
  },
  {
   "cell_type": "code",
   "execution_count": 7,
   "metadata": {},
   "outputs": [],
   "source": [
    "def collatz(x):\n",
    "    print(f'Testing Collatz with intial value {x}')\n",
    "    while x !=1:\n",
    "        x = f(x)\n",
    "        print(x, end=' ')\n",
    "\n",
    "        "
   ]
  },
  {
   "cell_type": "code",
   "execution_count": 15,
   "metadata": {},
   "outputs": [
    {
     "name": "stdout",
     "output_type": "stream",
     "text": [
      "Testing Collatz with intial value 10000\n",
      "5000 2500 1250 625 1876 938 469 1408 704 352 176 88 44 22 11 34 17 52 26 13 40 20 10 5 16 8 4 2 1 "
     ]
    }
   ],
   "source": [
    "collatz(10000)"
   ]
  },
  {
   "cell_type": "markdown",
   "metadata": {},
   "source": [
    "# task 2 # Penguin data set\n",
    "Task description:\n",
    "Give an overview of the famous penguins data set, explaining the types of variables it contains. Suggest the types of variables that should be used to model them in Python, explaining your rationale."
   ]
  },
  {
   "cell_type": "markdown",
   "metadata": {},
   "source": [
    "Overview: The Palmer Penguins Dataset\n",
    "the Palmer dataset is fastly becoming a great way to explore data and also serves as a great introduction to machine learning. the palmer dataset contains information on 344 penguins that belong to three different species of penguin. "
   ]
  },
  {
   "cell_type": "markdown",
   "metadata": {},
   "source": [
    "Obtaining the data\n",
    "The task description provided a link to the dataset on Github. I will began to obtain this data by adding importing Pandas so I can see the data information and run some samples on the dataset. to see it's information. "
   ]
  },
  {
   "cell_type": "code",
   "execution_count": 16,
   "metadata": {},
   "outputs": [
    {
     "name": "stdout",
     "output_type": "stream",
     "text": [
      "head:\n",
      "            island  bill_length_mm  bill_depth_mm  flipper_length_mm  \\\n",
      "species                                                                \n",
      "Adelie   Torgersen            39.1           18.7              181.0   \n",
      "Adelie   Torgersen            39.5           17.4              186.0   \n",
      "Adelie   Torgersen            40.3           18.0              195.0   \n",
      "Adelie   Torgersen             NaN            NaN                NaN   \n",
      "Adelie   Torgersen            36.7           19.3              193.0   \n",
      "\n",
      "         body_mass_g     sex  \n",
      "species                       \n",
      "Adelie        3750.0    MALE  \n",
      "Adelie        3800.0  FEMALE  \n",
      "Adelie        3250.0  FEMALE  \n",
      "Adelie           NaN     NaN  \n",
      "Adelie        3450.0  FEMALE  \n",
      "tail:\n",
      "         island  bill_length_mm  bill_depth_mm  flipper_length_mm  \\\n",
      "species                                                             \n",
      "Gentoo   Biscoe             NaN            NaN                NaN   \n",
      "Gentoo   Biscoe            46.8           14.3              215.0   \n",
      "Gentoo   Biscoe            50.4           15.7              222.0   \n",
      "Gentoo   Biscoe            45.2           14.8              212.0   \n",
      "Gentoo   Biscoe            49.9           16.1              213.0   \n",
      "\n",
      "         body_mass_g     sex  \n",
      "species                       \n",
      "Gentoo           NaN     NaN  \n",
      "Gentoo        4850.0  FEMALE  \n",
      "Gentoo        5750.0    MALE  \n",
      "Gentoo        5200.0  FEMALE  \n",
      "Gentoo        5400.0    MALE  \n",
      "sample:\n",
      "            island  bill_length_mm  bill_depth_mm  flipper_length_mm  \\\n",
      "species                                                                \n",
      "Adelie   Torgersen            39.1           18.7              181.0   \n",
      "Adelie   Torgersen            39.5           17.4              186.0   \n",
      "Adelie   Torgersen            40.3           18.0              195.0   \n",
      "Adelie   Torgersen             NaN            NaN                NaN   \n",
      "Adelie   Torgersen            36.7           19.3              193.0   \n",
      "\n",
      "         body_mass_g     sex  \n",
      "species                       \n",
      "Adelie        3750.0    MALE  \n",
      "Adelie        3800.0  FEMALE  \n",
      "Adelie        3250.0  FEMALE  \n",
      "Adelie           NaN     NaN  \n",
      "Adelie        3450.0  FEMALE  \n",
      "sample:\n",
      "         island  bill_length_mm  bill_depth_mm  flipper_length_mm  \\\n",
      "species                                                             \n",
      "Gentoo   Biscoe             NaN            NaN                NaN   \n",
      "Gentoo   Biscoe            46.8           14.3              215.0   \n",
      "Gentoo   Biscoe            50.4           15.7              222.0   \n",
      "Gentoo   Biscoe            45.2           14.8              212.0   \n",
      "Gentoo   Biscoe            49.9           16.1              213.0   \n",
      "\n",
      "         body_mass_g     sex  \n",
      "species                       \n",
      "Gentoo           NaN     NaN  \n",
      "Gentoo        4850.0  FEMALE  \n",
      "Gentoo        5750.0    MALE  \n",
      "Gentoo        5200.0  FEMALE  \n",
      "Gentoo        5400.0    MALE  \n",
      "\n",
      "data types:\n",
      "island                object\n",
      "bill_length_mm       float64\n",
      "bill_depth_mm        float64\n",
      "flipper_length_mm    float64\n",
      "body_mass_g          float64\n",
      "sex                   object\n",
      "dtype: object\n"
     ]
    }
   ],
   "source": [
    "import pandas as pd \n",
    "url =  'https://github.com/mwaskom/seaborn-data/blob/master/penguins.csv?raw=true'\n",
    "df = pd.read_csv(url,index_col=0)\n",
    "df.to_csv(\"penguines.csv\", index=False)\n",
    "print(f'head:\\n{df.head(5)}') \n",
    "print(f'tail:\\n{df.tail(5)}')\n",
    "print(f'sample:\\n{df.head(5)}')\n",
    "print(f'sample:\\n{df.tail(5)}')\n",
    "print(f'\\ndata types:\\n{df.dtypes}')"
   ]
  },
  {
   "cell_type": "markdown",
   "metadata": {},
   "source": [
    "Verification and quick overview of data imported\n",
    "\n",
    "as we can see from the data the dtypes command has returned 'object' this is a a general datatype ad contains strings and numbers, we can also see the dtypes command returned 'float64' is a pandas datatype for numberic characters and it is automatically assigned to columns that contain numeric characters with decimal point and/or NaN values.\n",
    "data types for each variables:\n",
    "island: object\n",
    "bill_length_mm: float64\n",
    "bill_depth_mm: float64\n",
    "flipper_length_mm: float64\n",
    "body_mass_g: float64\n",
    "sex: object\n"
   ]
  }
 ],
 "metadata": {
  "kernelspec": {
   "display_name": "base",
   "language": "python",
   "name": "python3"
  },
  "language_info": {
   "codemirror_mode": {
    "name": "ipython",
    "version": 3
   },
   "file_extension": ".py",
   "mimetype": "text/x-python",
   "name": "python",
   "nbconvert_exporter": "python",
   "pygments_lexer": "ipython3",
   "version": "3.11.4"
  },
  "orig_nbformat": 4
 },
 "nbformat": 4,
 "nbformat_minor": 2
}
