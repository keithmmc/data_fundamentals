{
 "cells": [
  {
   "cell_type": "code",
   "execution_count": null,
   "metadata": {},
   "outputs": [],
   "source": []
  },
  {
   "cell_type": "code",
   "execution_count": 1,
   "metadata": {},
   "outputs": [
    {
     "name": "stdout",
     "output_type": "stream",
     "text": [
      "<bound method DataFrame.info of      Sepal_Length  Sepal_Width  Petal_Length  Petal_Width           Class\n",
      "0             5.1          3.5           1.4          0.2     Iris-setosa\n",
      "1             4.9          3.0           1.4          0.2     Iris-setosa\n",
      "2             4.7          3.2           1.3          0.2     Iris-setosa\n",
      "3             4.6          3.1           1.5          0.2     Iris-setosa\n",
      "4             5.0          3.6           1.4          0.2     Iris-setosa\n",
      "..            ...          ...           ...          ...             ...\n",
      "145           6.7          3.0           5.2          2.3  Iris-virginica\n",
      "146           6.3          2.5           5.0          1.9  Iris-virginica\n",
      "147           6.5          3.0           5.2          2.0  Iris-virginica\n",
      "148           6.2          3.4           5.4          2.3  Iris-virginica\n",
      "149           5.9          3.0           5.1          1.8  Iris-virginica\n",
      "\n",
      "[150 rows x 5 columns]>\n",
      "\n",
      "   Sepal_Length  Sepal_Width  Petal_Length  Petal_Width        Class\n",
      "0           5.1          3.5           1.4          0.2  Iris-setosa\n",
      "1           4.9          3.0           1.4          0.2  Iris-setosa\n",
      "2           4.7          3.2           1.3          0.2  Iris-setosa\n",
      "3           4.6          3.1           1.5          0.2  Iris-setosa\n",
      "4           5.0          3.6           1.4          0.2  Iris-setosa\n",
      "     Sepal_Length  Sepal_Width  Petal_Length  Petal_Width           Class\n",
      "145           6.7          3.0           5.2          2.3  Iris-virginica\n",
      "146           6.3          2.5           5.0          1.9  Iris-virginica\n",
      "147           6.5          3.0           5.2          2.0  Iris-virginica\n",
      "148           6.2          3.4           5.4          2.3  Iris-virginica\n",
      "149           5.9          3.0           5.1          1.8  Iris-virginica\n",
      "     Sepal_Length  Sepal_Width  Petal_Length  Petal_Width            Class\n",
      "93            5.0          2.3           3.3          1.0  Iris-versicolor\n",
      "51            6.4          3.2           4.5          1.5  Iris-versicolor\n",
      "27            5.2          3.5           1.5          0.2      Iris-setosa\n",
      "107           7.3          2.9           6.3          1.8   Iris-virginica\n",
      "68            6.2          2.2           4.5          1.5  Iris-versicolor\n"
     ]
    }
   ],
   "source": [
    "import pandas as pd \n",
    "\n",
    "csv_url = 'https://archive.ics.uci.edu/ml/machine-learning-databases/iris/iris.data' \n",
    "\n",
    "cols_names =  ['Sepal_Length','Sepal_Width','Petal_Length','Petal_Width','Class']\n",
    "\n",
    "iris_data = pd.read_csv(csv_url, names = cols_names)\n",
    "\n",
    "print(f'{iris_data.info}')\n",
    "print(f'\\n{iris_data.head(5)}')\n",
    "print(f'{iris_data.tail(5)}')\n",
    "print(f'{iris_data.sample(5)}')\n",
    "\n",
    "\n",
    "\n"
   ]
  },
  {
   "cell_type": "code",
   "execution_count": 9,
   "metadata": {},
   "outputs": [
    {
     "name": "stdout",
     "output_type": "stream",
     "text": [
      "Sepal_Length    5.843333\n",
      "Sepal_Width     3.054000\n",
      "Petal_Length    3.758667\n",
      "Petal_Width     1.198667\n",
      "dtype: float64\n",
      "summary statistics for each Class of Iris in the data set \n",
      "\n",
      "Class               Iris-setosa  Iris-versicolor  Iris-virginica\n",
      "Sepal_Length count    50.000000        50.000000       50.000000\n",
      "             mean      5.006000         5.936000        6.588000\n",
      "             std       0.352490         0.516171        0.635880\n",
      "             min       4.300000         4.900000        4.900000\n",
      "             25%       4.800000         5.600000        6.225000\n",
      "             50%       5.000000         5.900000        6.500000\n",
      "             75%       5.200000         6.300000        6.900000\n",
      "             max       5.800000         7.000000        7.900000\n",
      "Sepal_Width  count    50.000000        50.000000       50.000000\n",
      "             mean      3.418000         2.770000        2.974000\n",
      "             std       0.381024         0.313798        0.322497\n",
      "             min       2.300000         2.000000        2.200000\n",
      "             25%       3.125000         2.525000        2.800000\n",
      "             50%       3.400000         2.800000        3.000000\n",
      "             75%       3.675000         3.000000        3.175000\n",
      "             max       4.400000         3.400000        3.800000\n",
      "Petal_Length count    50.000000        50.000000       50.000000\n",
      "             mean      1.464000         4.260000        5.552000\n",
      "             std       0.173511         0.469911        0.551895\n",
      "             min       1.000000         3.000000        4.500000\n",
      "             25%       1.400000         4.000000        5.100000\n",
      "             50%       1.500000         4.350000        5.550000\n",
      "             75%       1.575000         4.600000        5.875000\n",
      "             max       1.900000         5.100000        6.900000\n",
      "Petal_Width  count    50.000000        50.000000       50.000000\n",
      "             mean      0.244000         1.326000        2.026000\n",
      "             std       0.107210         0.197753        0.274650\n",
      "             min       0.100000         1.000000        1.400000\n",
      "             25%       0.200000         1.200000        1.800000\n",
      "             50%       0.200000         1.300000        2.000000\n",
      "             75%       0.300000         1.500000        2.300000\n",
      "             max       0.600000         1.800000        2.500000\n"
     ]
    },
    {
     "name": "stderr",
     "output_type": "stream",
     "text": [
      "C:\\Users\\keith\\AppData\\Local\\Temp\\ipykernel_11780\\1095999275.py:8: FutureWarning: The default value of numeric_only in DataFrame.mean is deprecated. In a future version, it will default to False. In addition, specifying 'numeric_only=None' is deprecated. Select only valid columns or specify the value of numeric_only to silence this warning.\n",
      "  print(iris_data.mean())\n"
     ]
    }
   ],
   "source": [
    "\n",
    "\n",
    "# get mean of group values\n",
    "iris_data.groupby(\"Class\").mean()\n",
    "\n",
    "# get median of group values\n",
    "iris_data.groupby(\"Class\").median()\n",
    "\n",
    "\n",
    "print(iris_data.mean())\n",
    "\n",
    "# Can look at the summary statistics for each class of Iris in the data set.\n",
    "# I transposed the results to make it easier to read.\n",
    "print(\"summary statistics for each Class of Iris in the data set \\n\")\n",
    "print(iris_data.groupby(\"Class\").describe().T)\n",
    "\n"
   ]
  }
 ],
 "metadata": {
  "kernelspec": {
   "display_name": "base",
   "language": "python",
   "name": "python3"
  },
  "language_info": {
   "codemirror_mode": {
    "name": "ipython",
    "version": 3
   },
   "file_extension": ".py",
   "mimetype": "text/x-python",
   "name": "python",
   "nbconvert_exporter": "python",
   "pygments_lexer": "ipython3",
   "version": "3.11.4"
  }
 },
 "nbformat": 4,
 "nbformat_minor": 2
}
